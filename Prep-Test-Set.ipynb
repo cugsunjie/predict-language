{
 "cells": [
  {
   "cell_type": "code",
   "execution_count": 38,
   "metadata": {
    "collapsed": true
   },
   "outputs": [],
   "source": [
    "import pandas as pd\n",
    "import numpy as np\n",
    "\n",
    "from keras.utils.data_utils import get_file\n"
   ]
  },
  {
   "cell_type": "markdown",
   "metadata": {},
   "source": [
    "## Pull the raw data and look at a few examples"
   ]
  },
  {
   "cell_type": "code",
   "execution_count": 5,
   "metadata": {
    "collapsed": false
   },
   "outputs": [
    {
     "name": "stdout",
     "output_type": "stream",
     "text": [
      "/home/ubuntu/.keras/datasets/europarl-test.zip\n"
     ]
    }
   ],
   "source": [
    "fname = 'europarl-test.zip'\n",
    "floc = 'https://storage.googleapis.com/google-code-archive-downloads/v2/code.google.com/language-detection/'\n",
    "fpath = get_file(fname,floc+fname)\n",
    "print fpath"
   ]
  },
  {
   "cell_type": "code",
   "execution_count": 6,
   "metadata": {
    "collapsed": false
   },
   "outputs": [
    {
     "name": "stdout",
     "output_type": "stream",
     "text": [
      "Archive:  /home/ubuntu/.keras/datasets/europarl-test.zip\r\n",
      "  inflating: europarl.test           \r\n"
     ]
    }
   ],
   "source": [
    "!unzip /home/ubuntu/.keras/datasets/europarl-test.zip"
   ]
  },
  {
   "cell_type": "code",
   "execution_count": 37,
   "metadata": {
    "collapsed": false
   },
   "outputs": [
    {
     "name": "stdout",
     "output_type": "stream",
     "text": [
      "bg\t\"Европа 2020\" не трябва да стартира нов конкурентен маратон и изход с приватизация.\n",
      "\n",
      "bg\t(CS) Най-голямата несправедливост на сегашната обща селскостопанска политика е фактът, че субсидиите се разпределят неравностойно и несправедливо между старите и новите държави-членки.\n",
      "\n",
      "bg\t(DE) Г-жо председател, г-н член на Комисията, по принцип съм против въвеждането на нови данъци.\n",
      "\n"
     ]
    }
   ],
   "source": [
    "with open('europarl.test', 'r') as f:\n",
    "    rawtxt = f.readlines()\n",
    "\n",
    "#Show a few raw examples\n",
    "for t in rawtxt[:3]:\n",
    "    print t"
   ]
  },
  {
   "cell_type": "markdown",
   "metadata": {},
   "source": [
    "### Convert to Numpy Arrays and Reshape to Our desired format"
   ]
  },
  {
   "cell_type": "code",
   "execution_count": 62,
   "metadata": {
    "collapsed": false
   },
   "outputs": [],
   "source": [
    "data = np.array([t.split('\\t') for t in rawtxt])\n",
    "data = np.hsplit(data, 2) \n",
    "labels = data[0].reshape(1,-1)[0]\n",
    "text = data[1].reshape(1,-1)[0]"
   ]
  },
  {
   "cell_type": "code",
   "execution_count": 65,
   "metadata": {
    "collapsed": false
   },
   "outputs": [
    {
     "name": "stdout",
     "output_type": "stream",
     "text": [
      "(21000,)\n",
      "(21000,)\n"
     ]
    }
   ],
   "source": [
    "print labels.shape\n",
    "print text.shape"
   ]
  },
  {
   "cell_type": "markdown",
   "metadata": {},
   "source": [
    "## Todo:\n",
    "- Load the vocab from training step, replace with integers, limit to 71 words\n",
    "- Convert labels to 1 hot"
   ]
  },
  {
   "cell_type": "code",
   "execution_count": null,
   "metadata": {
    "collapsed": true
   },
   "outputs": [],
   "source": []
  }
 ],
 "metadata": {
  "anaconda-cloud": {},
  "kernelspec": {
   "display_name": "Python [conda root]",
   "language": "python",
   "name": "conda-root-py"
  },
  "language_info": {
   "codemirror_mode": {
    "name": "ipython",
    "version": 2
   },
   "file_extension": ".py",
   "mimetype": "text/x-python",
   "name": "python",
   "nbconvert_exporter": "python",
   "pygments_lexer": "ipython2",
   "version": "2.7.12"
  }
 },
 "nbformat": 4,
 "nbformat_minor": 1
}
