{
 "cells": [
  {
   "cell_type": "code",
   "execution_count": 41,
   "metadata": {
    "collapsed": false
   },
   "outputs": [],
   "source": [
    "import pandas as pd\n",
    "import numpy as np\n",
    "import pickle\n",
    "from tensorflow.contrib.learn import preprocessing\n",
    "from keras.utils.data_utils import get_file"
   ]
  },
  {
   "cell_type": "markdown",
   "metadata": {},
   "source": [
    "## Pull the raw data and look at a few examples"
   ]
  },
  {
   "cell_type": "code",
   "execution_count": 2,
   "metadata": {
    "collapsed": false
   },
   "outputs": [
    {
     "name": "stdout",
     "output_type": "stream",
     "text": [
      "Downloading data from https://storage.googleapis.com/google-code-archive-downloads/v2/code.google.com/language-detection/europarl-test.zip\n",
      "/Users/ostegmaier/.keras/datasets/europarl-test.zip\n"
     ]
    }
   ],
   "source": [
    "fname = 'europarl-test.zip'\n",
    "floc = 'https://storage.googleapis.com/google-code-archive-downloads/v2/code.google.com/language-detection/'\n",
    "fpath = get_file(fname,floc+fname)\n",
    "print fpath"
   ]
  },
  {
   "cell_type": "code",
   "execution_count": 4,
   "metadata": {
    "collapsed": false
   },
   "outputs": [
    {
     "name": "stdout",
     "output_type": "stream",
     "text": [
      "Archive:  /Users/ostegmaier/.keras/datasets/europarl-test.zip\r\n",
      "  inflating: europarl.test           \r\n"
     ]
    }
   ],
   "source": [
    "!unzip /Users/ostegmaier/.keras/datasets/europarl-test.zip"
   ]
  },
  {
   "cell_type": "code",
   "execution_count": 5,
   "metadata": {
    "collapsed": false
   },
   "outputs": [
    {
     "name": "stdout",
     "output_type": "stream",
     "text": [
      "bg\t\"Европа 2020\" не трябва да стартира нов конкурентен маратон и изход с приватизация.\n",
      "\n",
      "bg\t(CS) Най-голямата несправедливост на сегашната обща селскостопанска политика е фактът, че субсидиите се разпределят неравностойно и несправедливо между старите и новите държави-членки.\n",
      "\n",
      "bg\t(DE) Г-жо председател, г-н член на Комисията, по принцип съм против въвеждането на нови данъци.\n",
      "\n"
     ]
    }
   ],
   "source": [
    "with open('europarl.test', 'r') as f:\n",
    "    rawtxt = f.readlines()\n",
    "\n",
    "#Show a few raw examples\n",
    "for t in rawtxt[:3]:\n",
    "    print t"
   ]
  },
  {
   "cell_type": "markdown",
   "metadata": {},
   "source": [
    "### Convert to Numpy Arrays and Reshape to Our desired format"
   ]
  },
  {
   "cell_type": "code",
   "execution_count": 6,
   "metadata": {
    "collapsed": false
   },
   "outputs": [],
   "source": [
    "data = np.array([t.split('\\t') for t in rawtxt])\n",
    "data = np.hsplit(data, 2) \n",
    "labels = data[0].reshape(1,-1)[0]\n",
    "text = data[1].reshape(1,-1)[0]"
   ]
  },
  {
   "cell_type": "code",
   "execution_count": 7,
   "metadata": {
    "collapsed": false
   },
   "outputs": [
    {
     "name": "stdout",
     "output_type": "stream",
     "text": [
      "(21000,)\n",
      "(21000,)\n"
     ]
    }
   ],
   "source": [
    "print labels.shape\n",
    "print text.shape"
   ]
  },
  {
   "cell_type": "markdown",
   "metadata": {},
   "source": [
    "## Map Test Set to the Corresponding Words From our Vocab"
   ]
  },
  {
   "cell_type": "code",
   "execution_count": 14,
   "metadata": {
    "collapsed": false
   },
   "outputs": [],
   "source": [
    "max_doc_len = 71\n",
    "vocab_path = './misc/20160113.vocab'\n",
    "vocab_processor = preprocessing.VocabularyProcessor(max_doc_len).restore(vocab_path)"
   ]
  },
  {
   "cell_type": "code",
   "execution_count": 32,
   "metadata": {
    "collapsed": false
   },
   "outputs": [],
   "source": [
    "X_test = np.array([t for t in vocab_processor.transform(text)])"
   ]
  },
  {
   "cell_type": "code",
   "execution_count": 37,
   "metadata": {
    "collapsed": false
   },
   "outputs": [
    {
     "name": "stdout",
     "output_type": "stream",
     "text": [
      "(21000, 71)\n"
     ]
    }
   ],
   "source": [
    "print X_test.shape"
   ]
  },
  {
   "cell_type": "markdown",
   "metadata": {},
   "source": [
    "## Map Labels to the Ordering Used in Training"
   ]
  },
  {
   "cell_type": "code",
   "execution_count": 48,
   "metadata": {
    "collapsed": false
   },
   "outputs": [],
   "source": [
    "cols = ['bg', 'cs', 'da', 'de', 'el', 'en', 'es', 'et', 'fi', 'fr', 'hu', 'it',\n",
    "         'lt', 'lv', 'nl', 'pl', 'pt', 'ro', 'sk', 'sl', 'sv']\n",
    "\n",
    "one_hot_labels = pd.get_dummies(labels)\n",
    "y_test = one_hot_labels[cols].values"
   ]
  },
  {
   "cell_type": "code",
   "execution_count": 49,
   "metadata": {
    "collapsed": false
   },
   "outputs": [
    {
     "name": "stdout",
     "output_type": "stream",
     "text": [
      "[1 0 0 0 0 0 0 0 0 0 0 0 0 0 0 0 0 0 0 0 0]\n"
     ]
    }
   ],
   "source": [
    "print y_test[0]"
   ]
  },
  {
   "cell_type": "code",
   "execution_count": 50,
   "metadata": {
    "collapsed": false
   },
   "outputs": [],
   "source": [
    "dataset = {'x':X_test, 'y':y_test}\n",
    "with open('./misc/startup_test_set.pkl', 'wb') as f:\n",
    "    pickle.dump(dataset, f, pickle.HIGHEST_PROTOCOL)"
   ]
  }
 ],
 "metadata": {
  "anaconda-cloud": {},
  "kernelspec": {
   "display_name": "Python 2",
   "language": "python",
   "name": "python2"
  },
  "language_info": {
   "codemirror_mode": {
    "name": "ipython",
    "version": 2
   },
   "file_extension": ".py",
   "mimetype": "text/x-python",
   "name": "python",
   "nbconvert_exporter": "python",
   "pygments_lexer": "ipython2",
   "version": "2.7.11"
  }
 },
 "nbformat": 4,
 "nbformat_minor": 1
}
