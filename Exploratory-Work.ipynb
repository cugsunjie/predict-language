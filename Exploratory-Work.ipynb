{
 "cells": [
  {
   "cell_type": "code",
   "execution_count": 22,
   "metadata": {
    "collapsed": false
   },
   "outputs": [],
   "source": [
    "import os, re\n",
    "import pandas as pd\n",
    "\n",
    "def stripXML(t):\n",
    "    '''Strips XML and comments from text'''\n",
    "    if len(t) == 0:\n",
    "        return False\n",
    "    elif t[0] in  ['<', '(']:\n",
    "        return False\n",
    "    else:\n",
    "        return True\n",
    "    \n",
    "def onlyLetters(t):\n",
    "    '''Keeps only letters in any language'''\n",
    "    try: \n",
    "        words = re.findall(r'[^\\W_0-9]+',t.decode('utf8'),re.U)\n",
    "        return \" \".join([w for w in words])\n",
    "    except: \n",
    "        return \"\"\n",
    "\n",
    "\n",
    "def makeRecord(t, lang, pad=\"<PAD>\", n=70):\n",
    "    '''Takes sentence and adds a comma,\n",
    "    the language and a newline -> CSV record, \n",
    "    pads the sentence with <PAD> word to get to 70 words'''\n",
    "    lang = lang.replace('/', '')\n",
    "    try:\n",
    "        sentence = onlyLetters(t).encode('utf-8')\n",
    "    except UnicodeDecodeError:\n",
    "        return \"\"\n",
    "    length = len(sentence.split(' '))\n",
    "    padwords = \" \" + \" \".join([pad for i in range(n - length + 1)])\n",
    "    sentence = sentence + padwords\n",
    "    record = sentence + \", {0}\\n\".format(lang)\n",
    "    return record\n",
    "\n",
    "\n",
    "def splitNWords(t, n=70):\n",
    "    sentence = onlyLetters(t).encode('utf-8')\n",
    "    words = sentence.split(' ')\n",
    "    sentences = [\" \".join(words[i:i+n]) for i in range(0, len(words), n)]\n",
    "    return sentences\n"
   ]
  },
  {
   "cell_type": "markdown",
   "metadata": {},
   "source": [
    "### Little utility script to merge all the separate files into one big CSV per language\n"
   ]
  },
  {
   "cell_type": "markdown",
   "metadata": {},
   "source": [
    "- Strip out XML tags and non letters\n",
    "- Had to deal with cyrillic alphabet and non-ascii\n",
    "- Split into senteces of 70 words or less and then padded with `<PAD>` for batching"
   ]
  },
  {
   "cell_type": "code",
   "execution_count": 23,
   "metadata": {
    "collapsed": false
   },
   "outputs": [],
   "source": [
    "datadir = './short_clean_data/'\n",
    "txtdir = './txt/'\n",
    "already_done = [d.split('_')[-1].split('.')[0] for d in os.listdir(datadir) if '.csv' in d]\n",
    "langs = [d for d in os.listdir(txtdir) if os.path.isdir(txtdir + d) and d not in already_done]"
   ]
  },
  {
   "cell_type": "code",
   "execution_count": 25,
   "metadata": {
    "collapsed": false
   },
   "outputs": [
    {
     "name": "stdout",
     "output_type": "stream",
     "text": [
      "Starting bg/, 6586 files to read.\n",
      "Starting cs/, 8842 files to read.\n",
      "Starting da/, 9373 files to read.\n",
      "Starting de/, 9224 files to read.\n",
      "Starting el/, 9271 files to read.\n",
      "Starting en/, 9672 files to read.\n",
      "Starting es/, 9433 files to read.\n",
      "Starting et/, 8819 files to read.\n",
      "Starting fi/, 9335 files to read.\n",
      "Starting fr/, 9450 files to read.\n",
      "Starting hu/, 8763 files to read.\n",
      "Starting it/, 9486 files to read.\n",
      "Starting lt/, 8819 files to read.\n",
      "Starting lv/, 8787 files to read.\n",
      "Starting nl/, 9433 files to read.\n",
      "Starting pl/, 8821 files to read.\n",
      "Starting pt/, 9434 files to read.\n",
      "Starting ro/, 6576 files to read.\n",
      "Starting sk/, 8804 files to read.\n",
      "Starting sl/, 8742 files to read.\n",
      "Starting sv/, 9402 files to read.\n"
     ]
    }
   ],
   "source": [
    "for lang in langs:\n",
    "    out_file = open(datadir + '/cleaned_data_{}.csv'.format(lang), 'a')\n",
    "    lang = lang + '/'\n",
    "    txt_files = os.listdir(txtdir + lang)\n",
    "    print \"Starting {}, {} files to read.\".format(lang, len(txt_files))\n",
    "    for txt in txt_files:\n",
    "        #Read original text\n",
    "        with open(txtdir + lang + txt, 'r') as f:\n",
    "            txt = f.read()\n",
    "        #Split into smaller 70 word sentences & flatten it\n",
    "        txt_list = [splitNWords(t) for t in txt.split('\\n') if stripXML(t)]\n",
    "        txt_list = [item for sublist in txt_list for item in sublist]\n",
    "        #Create CSV record: pad to 70 words, add language Split on newline\n",
    "        txt_list = [makeRecord(t, lang) for t in txt_list]\n",
    "        #Write to en file\n",
    "        out_file.writelines(txt_list)"
   ]
  },
  {
   "cell_type": "code",
   "execution_count": 26,
   "metadata": {
    "collapsed": true
   },
   "outputs": [],
   "source": [
    "langs = [d for d in os.listdir(txtdir) if os.path.isdir(txtdir + d)]\n",
    "colnames = ['txt', 'lang']\n",
    "df = pd.DataFrame({}, columns=colnames)\n",
    "for lang in langs:\n",
    "    lang_df = pd.read_csv('./short_clean_data/cleaned_data_{}.csv'.format(lang), names=colnames)\n",
    "    df = pd.concat([df, lang_df])\n",
    "\n",
    "df.to_csv('./short_clean_data/cleaned_data_all.csv', index=False)"
   ]
  },
  {
   "cell_type": "code",
   "execution_count": 20,
   "metadata": {
    "collapsed": false
   },
   "outputs": [
    {
     "data": {
      "text/plain": [
       "13891602"
      ]
     },
     "execution_count": 20,
     "metadata": {},
     "output_type": "execute_result"
    }
   ],
   "source": [
    "len(df)"
   ]
  },
  {
   "cell_type": "code",
   "execution_count": 21,
   "metadata": {
    "collapsed": false
   },
   "outputs": [
    {
     "data": {
      "text/html": [
       "<div>\n",
       "<table border=\"1\" class=\"dataframe\">\n",
       "  <thead>\n",
       "    <tr style=\"text-align: right;\">\n",
       "      <th></th>\n",
       "      <th>txt</th>\n",
       "      <th>lang</th>\n",
       "    </tr>\n",
       "  </thead>\n",
       "  <tbody>\n",
       "    <tr>\n",
       "      <th>0</th>\n",
       "      <td>Състав на Парламента вж протоколи&lt;PAD&gt; &lt;PAD&gt; &lt;...</td>\n",
       "      <td>bg</td>\n",
       "    </tr>\n",
       "    <tr>\n",
       "      <th>1</th>\n",
       "      <td>Одобряване на протокола от предишното заседани...</td>\n",
       "      <td>bg</td>\n",
       "    </tr>\n",
       "    <tr>\n",
       "      <th>2</th>\n",
       "      <td>Състав на Парламента вж протоколи&lt;PAD&gt; &lt;PAD&gt; &lt;...</td>\n",
       "      <td>bg</td>\n",
       "    </tr>\n",
       "    <tr>\n",
       "      <th>3</th>\n",
       "      <td>Проверка на пълномощията вж протоколи&lt;PAD&gt; &lt;PA...</td>\n",
       "      <td>bg</td>\n",
       "    </tr>\n",
       "    <tr>\n",
       "      <th>4</th>\n",
       "      <td>Внасяне на документи вж протоколи&lt;PAD&gt; &lt;PAD&gt; &lt;...</td>\n",
       "      <td>bg</td>\n",
       "    </tr>\n",
       "  </tbody>\n",
       "</table>\n",
       "</div>"
      ],
      "text/plain": [
       "                                                 txt lang\n",
       "0  Състав на Парламента вж протоколи<PAD> <PAD> <...   bg\n",
       "1  Одобряване на протокола от предишното заседани...   bg\n",
       "2  Състав на Парламента вж протоколи<PAD> <PAD> <...   bg\n",
       "3  Проверка на пълномощията вж протоколи<PAD> <PA...   bg\n",
       "4  Внасяне на документи вж протоколи<PAD> <PAD> <...   bg"
      ]
     },
     "execution_count": 21,
     "metadata": {},
     "output_type": "execute_result"
    }
   ],
   "source": [
    "df.head()"
   ]
  },
  {
   "cell_type": "code",
   "execution_count": null,
   "metadata": {
    "collapsed": true
   },
   "outputs": [],
   "source": []
  }
 ],
 "metadata": {
  "kernelspec": {
   "display_name": "Python 2",
   "language": "python",
   "name": "python2"
  },
  "language_info": {
   "codemirror_mode": {
    "name": "ipython",
    "version": 2
   },
   "file_extension": ".py",
   "mimetype": "text/x-python",
   "name": "python",
   "nbconvert_exporter": "python",
   "pygments_lexer": "ipython2",
   "version": "2.7.11"
  }
 },
 "nbformat": 4,
 "nbformat_minor": 0
}
